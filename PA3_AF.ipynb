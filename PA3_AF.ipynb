{
 "cells": [
  {
   "cell_type": "markdown",
   "id": "39d194ff",
   "metadata": {},
   "source": [
    "# Programming Assignment 3\n",
    "## By Aidan Fearn\n",
    "### CS-150"
   ]
  },
  {
   "cell_type": "markdown",
   "id": "19596295",
   "metadata": {},
   "source": [
    "# Task 1"
   ]
  },
  {
   "cell_type": "code",
   "execution_count": 3,
   "id": "146e02e5",
   "metadata": {},
   "outputs": [
    {
     "name": "stdout",
     "output_type": "stream",
     "text": [
      "[5, 20, 30, 40, 50, 60]\n"
     ]
    }
   ],
   "source": [
    "numbers=[10, 20, 30, 40, 50]\n",
    "numbers.append(60)\n",
    "numbers.insert(0, 5)\n",
    "del numbers[1]\n",
    "print(numbers)"
   ]
  },
  {
   "cell_type": "markdown",
   "id": "8b2717fd",
   "metadata": {},
   "source": [
    "# Task 2"
   ]
  },
  {
   "cell_type": "code",
   "execution_count": 5,
   "id": "134c7da3",
   "metadata": {},
   "outputs": [
    {
     "name": "stdout",
     "output_type": "stream",
     "text": [
      "Wednesday\n"
     ]
    }
   ],
   "source": [
    "days=('Monday','Tuesday','Wednesday','Thursday','Friday','Saturday','Sunday')\n",
    "print(days[2])"
   ]
  },
  {
   "cell_type": "code",
   "execution_count": 6,
   "id": "46b4826c",
   "metadata": {},
   "outputs": [
    {
     "ename": "TypeError",
     "evalue": "'tuple' object does not support item assignment",
     "output_type": "error",
     "traceback": [
      "\u001b[0;31m---------------------------------------------------------------------------\u001b[0m",
      "\u001b[0;31mTypeError\u001b[0m                                 Traceback (most recent call last)",
      "Cell \u001b[0;32mIn[6], line 1\u001b[0m\n\u001b[0;32m----> 1\u001b[0m days[\u001b[38;5;241m1\u001b[39m]\u001b[38;5;241m=\u001b[39m\u001b[38;5;124m'\u001b[39m\u001b[38;5;124mFunday\u001b[39m\u001b[38;5;124m'\u001b[39m\n",
      "\u001b[0;31mTypeError\u001b[0m: 'tuple' object does not support item assignment"
     ]
    }
   ],
   "source": [
    "days[1]='Funday'"
   ]
  },
  {
   "cell_type": "markdown",
   "id": "dae26854",
   "metadata": {},
   "source": [
    "Unlike a list, you can not modify an index inside of a tuple, this is why the error message is occuring"
   ]
  },
  {
   "cell_type": "markdown",
   "id": "e4fe0105",
   "metadata": {},
   "source": [
    "# Task 3"
   ]
  },
  {
   "cell_type": "code",
   "execution_count": 9,
   "id": "11ff4330",
   "metadata": {},
   "outputs": [
    {
     "name": "stdout",
     "output_type": "stream",
     "text": [
      "['a', 'b', 'c', 'd', 'e', 'f', 'g', 'h', 'i', 'j', 'k', 'l', 'm', 'n', 'o', 'p', 'q', 'r', 's', 't', 'u', 'v', 'w', 'x', 'y', 'z']\n"
     ]
    }
   ],
   "source": [
    "letters=[\"a\",\"b\",\"c\",\"d\",\"e\",\"f\",\"g\",\"h\",\"i\",\"j\",\"k\",\"l\",\"m\",\"n\",\"o\",\"p\",\"q\",\"r\",\"s\",\"t\",\"u\",\"v\",\"w\",\"x\",\"y\",\"z\"]\n",
    "print(letters)"
   ]
  },
  {
   "cell_type": "code",
   "execution_count": 24,
   "id": "14730fa4",
   "metadata": {},
   "outputs": [
    {
     "data": {
      "text/plain": [
       "['p', 'o', 'n', 'm', 'l', 'k']"
      ]
     },
     "execution_count": 24,
     "metadata": {},
     "output_type": "execute_result"
    }
   ],
   "source": [
    "letters[-11:-17:-1]"
   ]
  },
  {
   "cell_type": "code",
   "execution_count": 27,
   "id": "5f9903db",
   "metadata": {},
   "outputs": [
    {
     "data": {
      "text/plain": [
       "['k', 'l', 'm', 'n', 'o', 'p']"
      ]
     },
     "execution_count": 27,
     "metadata": {},
     "output_type": "execute_result"
    }
   ],
   "source": [
    "letters[10:16]"
   ]
  },
  {
   "cell_type": "markdown",
   "id": "bb5938b8",
   "metadata": {},
   "source": [
    "# Task 4"
   ]
  },
  {
   "cell_type": "code",
   "execution_count": 12,
   "id": "47879d29",
   "metadata": {},
   "outputs": [
    {
     "name": "stdout",
     "output_type": "stream",
     "text": [
      "My name is:  Aidan\n",
      "My lastname is:  Fearn\n",
      "My age is:  21\n",
      "My favourite subject is:  Economics\n"
     ]
    }
   ],
   "source": [
    "student=('Aidan','Fearn','21','Economics')\n",
    "a, b, c, d=student[:]\n",
    "print(f\"My name is: \", a)\n",
    "print(f\"My lastname is: \", b)\n",
    "print(f\"My age is: \", c)\n",
    "print(f\"My favourite subject is: \", d)"
   ]
  },
  {
   "cell_type": "markdown",
   "id": "59d03c5d",
   "metadata": {},
   "source": [
    "# Task 5"
   ]
  },
  {
   "cell_type": "code",
   "execution_count": 8,
   "id": "a332f0fb",
   "metadata": {},
   "outputs": [
    {
     "name": "stdout",
     "output_type": "stream",
     "text": [
      "5\n"
     ]
    }
   ],
   "source": [
    "shopping_list=['Apple','Orange','Banana','Kiwi','Mango']\n",
    "print(len(shopping_list))"
   ]
  },
  {
   "cell_type": "code",
   "execution_count": 9,
   "id": "b8d4f6ec",
   "metadata": {},
   "outputs": [
    {
     "name": "stdout",
     "output_type": "stream",
     "text": [
      "['Apple', 'Orange', 'Banana', 'Kiwi', 'Mango']\n"
     ]
    }
   ],
   "source": [
    "print(shopping_list)"
   ]
  },
  {
   "cell_type": "code",
   "execution_count": 10,
   "id": "84df1697",
   "metadata": {},
   "outputs": [
    {
     "name": "stdout",
     "output_type": "stream",
     "text": [
      "['Apple', 'Orange', 'Carrot', 'Kiwi', 'Mango']\n"
     ]
    }
   ],
   "source": [
    "shopping_list[2]='Carrot'\n",
    "print(shopping_list)"
   ]
  },
  {
   "cell_type": "code",
   "execution_count": 12,
   "id": "7bb61401",
   "metadata": {},
   "outputs": [
    {
     "name": "stdout",
     "output_type": "stream",
     "text": [
      "['Apple', 'Carrot', 'Kiwi', 'Mango', 'Orange']\n"
     ]
    }
   ],
   "source": [
    "shopping_list.sort()\n",
    "print(shopping_list)"
   ]
  }
 ],
 "metadata": {
  "kernelspec": {
   "display_name": "Python 3 (ipykernel)",
   "language": "python",
   "name": "python3"
  },
  "language_info": {
   "codemirror_mode": {
    "name": "ipython",
    "version": 3
   },
   "file_extension": ".py",
   "mimetype": "text/x-python",
   "name": "python",
   "nbconvert_exporter": "python",
   "pygments_lexer": "ipython3",
   "version": "3.11.4"
  }
 },
 "nbformat": 4,
 "nbformat_minor": 5
}
